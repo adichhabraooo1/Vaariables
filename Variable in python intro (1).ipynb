{
 "cells": [
  {
   "cell_type": "code",
   "execution_count": 1,
   "id": "be701577",
   "metadata": {},
   "outputs": [],
   "source": [
    "sudh = 10"
   ]
  },
  {
   "cell_type": "code",
   "execution_count": 4,
   "id": "fd62a6c5",
   "metadata": {},
   "outputs": [
    {
     "data": {
      "text/plain": [
       "20"
      ]
     },
     "execution_count": 4,
     "metadata": {},
     "output_type": "execute_result"
    }
   ],
   "source": [
    "sudh+10"
   ]
  },
  {
   "cell_type": "code",
   "execution_count": null,
   "id": "ab079bc5",
   "metadata": {},
   "outputs": [],
   "source": [
    "type(a)"
   ]
  },
  {
   "cell_type": "code",
   "execution_count": null,
   "id": "1f1ea567",
   "metadata": {},
   "outputs": [],
   "source": [
    "a=34.09"
   ]
  },
  {
   "cell_type": "code",
   "execution_count": null,
   "id": "1a09e412",
   "metadata": {},
   "outputs": [],
   "source": [
    "type(a)"
   ]
  },
  {
   "cell_type": "code",
   "execution_count": null,
   "id": "9b9de1ba",
   "metadata": {},
   "outputs": [],
   "source": [
    "c= \"hello there how are you\""
   ]
  },
  {
   "cell_type": "code",
   "execution_count": null,
   "id": "2c044fa4",
   "metadata": {},
   "outputs": [],
   "source": [
    "type (c)"
   ]
  },
  {
   "cell_type": "code",
   "execution_count": null,
   "id": "78675c79",
   "metadata": {},
   "outputs": [],
   "source": [
    "d = True"
   ]
  },
  {
   "cell_type": "code",
   "execution_count": null,
   "id": "e955cd6e",
   "metadata": {},
   "outputs": [],
   "source": [
    "type (d)"
   ]
  },
  {
   "cell_type": "code",
   "execution_count": null,
   "id": "0dc892ce",
   "metadata": {},
   "outputs": [],
   "source": [
    "e = False"
   ]
  },
  {
   "cell_type": "code",
   "execution_count": null,
   "id": "487e412a",
   "metadata": {},
   "outputs": [],
   "source": [
    "type (e)"
   ]
  },
  {
   "cell_type": "code",
   "execution_count": null,
   "id": "7d5b118e",
   "metadata": {},
   "outputs": [],
   "source": [
    "True - False"
   ]
  },
  {
   "cell_type": "code",
   "execution_count": null,
   "id": "3b8b9c67",
   "metadata": {},
   "outputs": [],
   "source": [
    "True * True"
   ]
  },
  {
   "cell_type": "code",
   "execution_count": null,
   "id": "8854b398",
   "metadata": {},
   "outputs": [],
   "source": [
    "n = 5+7j"
   ]
  },
  {
   "cell_type": "code",
   "execution_count": null,
   "id": "52d30ef3",
   "metadata": {},
   "outputs": [],
   "source": [
    "type (n)"
   ]
  },
  {
   "cell_type": "code",
   "execution_count": null,
   "id": "a48ed132",
   "metadata": {},
   "outputs": [],
   "source": [
    "n + n"
   ]
  },
  {
   "cell_type": "code",
   "execution_count": null,
   "id": "711d2108",
   "metadata": {},
   "outputs": [],
   "source": [
    "n "
   ]
  },
  {
   "cell_type": "code",
   "execution_count": null,
   "id": "27ed0470",
   "metadata": {},
   "outputs": [],
   "source": [
    "0/1"
   ]
  },
  {
   "cell_type": "code",
   "execution_count": null,
   "id": "96fc4c1b",
   "metadata": {},
   "outputs": [],
   "source": [
    "type (0/1)"
   ]
  },
  {
   "cell_type": "code",
   "execution_count": null,
   "id": "fe2856ec",
   "metadata": {},
   "outputs": [],
   "source": [
    "n.real"
   ]
  },
  {
   "cell_type": "code",
   "execution_count": null,
   "id": "03ef8202",
   "metadata": {},
   "outputs": [],
   "source": [
    "n.conjugate"
   ]
  },
  {
   "cell_type": "code",
   "execution_count": null,
   "id": "2d1cee5c",
   "metadata": {},
   "outputs": [],
   "source": [
    "n.imag"
   ]
  },
  {
   "cell_type": "code",
   "execution_count": null,
   "id": "7ad5c25d",
   "metadata": {},
   "outputs": [],
   "source": [
    "c"
   ]
  },
  {
   "cell_type": "code",
   "execution_count": null,
   "id": "3b887e07",
   "metadata": {},
   "outputs": [],
   "source": [
    "type (c)"
   ]
  },
  {
   "cell_type": "code",
   "execution_count": null,
   "id": "1c2e39ff",
   "metadata": {},
   "outputs": [],
   "source": [
    "1 == [3,4,5,6, \"sudh\" , False, 5+3j , 345.456]"
   ]
  },
  {
   "cell_type": "code",
   "execution_count": null,
   "id": "19125eb4",
   "metadata": {},
   "outputs": [],
   "source": [
    "type (1)"
   ]
  },
  {
   "cell_type": "code",
   "execution_count": null,
   "id": "2aefdeac",
   "metadata": {},
   "outputs": [],
   "source": [
    "t = (324,456,65,456,46,\"6546546\",\"sudh\")"
   ]
  },
  {
   "cell_type": "code",
   "execution_count": null,
   "id": "36e06a83",
   "metadata": {},
   "outputs": [],
   "source": [
    "type (t)"
   ]
  },
  {
   "cell_type": "code",
   "execution_count": null,
   "id": "a36b4e79",
   "metadata": {},
   "outputs": [],
   "source": [
    "d = {'a': \"sudh\" , \"b\" : \"kumar\" , \"c\" : 23432}"
   ]
  },
  {
   "cell_type": "code",
   "execution_count": null,
   "id": "22817923",
   "metadata": {},
   "outputs": [],
   "source": [
    "type(d)"
   ]
  },
  {
   "cell_type": "code",
   "execution_count": null,
   "id": "48f856c4",
   "metadata": {},
   "outputs": [],
   "source": []
  }
 ],
 "metadata": {
  "kernelspec": {
   "display_name": "Python 3 (ipykernel)",
   "language": "python",
   "name": "python3"
  },
  "language_info": {
   "codemirror_mode": {
    "name": "ipython",
    "version": 3
   },
   "file_extension": ".py",
   "mimetype": "text/x-python",
   "name": "python",
   "nbconvert_exporter": "python",
   "pygments_lexer": "ipython3",
   "version": "3.10.9"
  }
 },
 "nbformat": 4,
 "nbformat_minor": 5
}
